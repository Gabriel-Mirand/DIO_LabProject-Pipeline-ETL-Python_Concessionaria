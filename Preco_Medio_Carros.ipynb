{
  "nbformat": 4,
  "nbformat_minor": 0,
  "metadata": {
    "colab": {
      "provenance": []
    },
    "kernelspec": {
      "name": "python3",
      "display_name": "Python 3"
    },
    "language_info": {
      "name": "python"
    }
  },
  "cells": [
    {
      "cell_type": "markdown",
      "source": [
        "# **Contruindo um Pipeline ETL com Python - Analisando Preço Médio de Carros**"
      ],
      "metadata": {
        "id": "RIEmHMw1fzlT"
      }
    },
    {
      "cell_type": "markdown",
      "source": [
        "Este é um desafio de projeto do Santander Bootcamp 2023 - Ciência de Dados com Python.\n",
        "\n",
        "O projeto modelo tem o título Explorando IA Generativa em um Pipeline de ETL com Python.\n",
        "\n",
        "🚀 Entendendo o desafio\n",
        "Inspirado pelo projeto modelo o aluno deveria replicar ou reimaginar uma pipeline ETL utilizando Python.\n",
        "\n",
        "💰 No meu projeto uma concessionária de carros precisa é criar um pipeline ETL para extrair os valores de veículos de um arquivo CSV, realizar algumas transformações simples como cálculo do preço médio dos veículos categorizando-os por quilometragem e por fim realizar carregamento dos dados transformados em um novo arquivo CSV além de criar uma visualização em tela para mostrar o resultados."
      ],
      "metadata": {
        "id": "7YZhYsGdgAFq"
      }
    },
    {
      "cell_type": "markdown",
      "source": [
        "# **Extrair**"
      ],
      "metadata": {
        "id": "W8E8demGiY56"
      }
    },
    {
      "cell_type": "markdown",
      "source": [
        "Nesta etapa vamos extrair os valores no arquivo preco_de_carros.csv. Este arquivo traz informações referentes aos carros Amarok e Civic, onde serão coletados os dados das colunas km e preco."
      ],
      "metadata": {
        "id": "Iuvx6Wt7i-gM"
      }
    },
    {
      "cell_type": "code",
      "source": [
        "import pandas as pd\n",
        "\n",
        "# Carregando o arquivo CSV em um DataFrame\n",
        "file_path = \"preco_de_carros.csv\"\n",
        "df = pd.read_csv(file_path)\n",
        "\n",
        "# Visualizando as primeiras linhas do DataFrame para verificar os dados\n",
        "print(df.head())"
      ],
      "metadata": {
        "colab": {
          "base_uri": "https://localhost:8080/"
        },
        "id": "cU2OgeI2vP0m",
        "outputId": "789d03b5-7e9a-4c36-cfa7-294db4caad48"
      },
      "execution_count": 4,
      "outputs": [
        {
          "output_type": "stream",
          "name": "stdout",
          "text": [
            "    carro                                      especificacao     cor     km  \\\n",
            "0  amarok  VOLKSWAGEN AMAROK 2.0 4X2 CD 16V TURBO INTERCO...  branco      0   \n",
            "1  amarok  VOLKSWAGEN AMAROK 2.0 4X2 CD 16V TURBO INTERCO...   preto  12345   \n",
            "2  amarok  VOLKSWAGEN AMAROK 2.0 4X2 CD 16V TURBO INTERCO...  branco  19500   \n",
            "3  amarok  VOLKSWAGEN AMAROK 2.0 4X2 CD 16V TURBO INTERCO...   cinza  20000   \n",
            "4  amarok  VOLKSWAGEN AMAROK 2.0 4X2 CD 16V TURBO INTERCO...  branco  30000   \n",
            "\n",
            "      anomod   preco  \n",
            "0  2011/2011   77000  \n",
            "1  2014/2014  101345  \n",
            "2  2012/2012   82990  \n",
            "3  2012/2013   89000  \n",
            "4  2012/2012   81990  \n"
          ]
        }
      ]
    },
    {
      "cell_type": "markdown",
      "source": [
        "# **Transformação**"
      ],
      "metadata": {
        "id": "kN01ykFewTsN"
      }
    },
    {
      "cell_type": "markdown",
      "source": [
        "Análise estatística dos preços dos carros por categorias (carro)."
      ],
      "metadata": {
        "id": "tOhSWFBKwXhM"
      }
    },
    {
      "cell_type": "code",
      "source": [
        "# Calculando o preço médio por carro\n",
        "media_por_carro = df.groupby('carro')['preco'].mean()\n",
        "print(\"O preço médio por carro é:\")\n",
        "print(media_por_carro)\n",
        "\n",
        "# Calculando o preço mediano por carro\n",
        "mediano_por_carro = df.groupby('carro')['preco'].median()\n",
        "print(\"O preço mediano por carro é:\")\n",
        "print(mediano_por_carro)"
      ],
      "metadata": {
        "colab": {
          "base_uri": "https://localhost:8080/"
        },
        "id": "XeWr6AdM2DyK",
        "outputId": "022981bd-15ba-4775-f688-198fb0ce9185"
      },
      "execution_count": 5,
      "outputs": [
        {
          "output_type": "stream",
          "name": "stdout",
          "text": [
            "O preço médio por carro é:\n",
            "carro\n",
            "amarok       104698.844523\n",
            "civic         45093.689234\n",
            "cruze         65846.583538\n",
            "duster        54293.030142\n",
            "ecosport      41349.012915\n",
            "fluence       53917.422170\n",
            "focus         40460.165912\n",
            "fusion        64858.510836\n",
            "gol           23442.688935\n",
            "hb20          43182.880626\n",
            "hilux         95711.343651\n",
            "jetta         66386.395936\n",
            "onix          38721.902299\n",
            "punto         35145.229579\n",
            "sandero       28978.267919\n",
            "silverado     54251.634146\n",
            "uno           22367.699112\n",
            "Name: preco, dtype: float64\n",
            "O preço mediano por carro é:\n",
            "carro\n",
            "amarok       105900.0\n",
            "civic         42900.0\n",
            "cruze         63990.0\n",
            "duster        53900.0\n",
            "ecosport      36990.0\n",
            "fluence       52900.0\n",
            "focus         38900.0\n",
            "fusion        56645.0\n",
            "gol           23000.0\n",
            "hb20          41000.0\n",
            "hilux         93945.0\n",
            "jetta         63000.0\n",
            "onix          38005.0\n",
            "punto         33000.0\n",
            "sandero       27800.0\n",
            "silverado     42000.0\n",
            "uno           22990.0\n",
            "Name: preco, dtype: float64\n"
          ]
        }
      ]
    },
    {
      "cell_type": "code",
      "source": [
        "from google.colab import drive\n",
        "drive.mount('/content/drive')"
      ],
      "metadata": {
        "id": "2N-1Tenn9dZM"
      },
      "execution_count": null,
      "outputs": []
    },
    {
      "cell_type": "markdown",
      "source": [
        "# **Carregamento**"
      ],
      "metadata": {
        "id": "XAzBdztP8YnN"
      }
    },
    {
      "cell_type": "markdown",
      "source": [
        "Nessa etapa foi realizado o carregamento dos resultados em uma nova planilha."
      ],
      "metadata": {
        "id": "dq9ki3XC8dAt"
      }
    },
    {
      "cell_type": "code",
      "source": [
        "# Salvando os dados transformados em um arquivo CSV\n",
        "media_por_carro.to_csv(\"media_por_carro.csv\")\n",
        "mediano_por_carro.to_csv(\"mediano_por_carro.csv\")\n"
      ],
      "metadata": {
        "id": "WixIw0k7-JZz"
      },
      "execution_count": 6,
      "outputs": []
    }
  ]
}